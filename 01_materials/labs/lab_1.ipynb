{
 "cells": [
  {
   "cell_type": "markdown",
   "metadata": {},
   "source": [
    "# Training Neural Networks with Keras\n",
    "\n",
    "Welcome to the first practical session of the course! In this session, we will learn how to train neural networks with Keras. We will start with a simple example of a feedforward neural network for classification and then we will study the impact of the initialization of the weights on the convergence of the training algorithm.\n",
    "\n",
    "Keras is a high-level neural network API, built on top of TensorFlow 2.0. It provides a user-friendly interface to build, train and deploy deep learning models. Keras is designed to be modular, fast and easy to use.\n",
    "\n",
    "Throughout this course, we will focus on using Keras and TensorFlow for building and training neural networks. However, there are other popular deep learning frameworks such as PyTorch, MXNet, CNTK, etc. that you can also use to build and train neural networks.\n",
    "\n",
    "In order to use our code on Google Colab, we will need to ensure that any required packages are installed. We will use the following packages in this session:\n",
    "\n",
    "- `tensorflow`: an open-source library for numerical computation and large-scale machine learning.\n",
    "- `matplotlib`: a plotting library for the Python programming language and its numerical mathematics extension NumPy.\n",
    "- `numpy`: a library for scientific computing in Python.\n",
    "- `scikit-learn`: a machine learning library for the Python programming language.\n",
    "- `pandas`: a library providing high-performance, easy-to-use data structures and data analysis tools for the Python programming language.\n",
    "\n",
    "The following cell will check if the packages are installed, and if not, it will install them. Students familiar with how pip works might note that it already checks this before installing! The reason for this code (which will also appear in subsequent notebooks) is to speed up execution if you re-run the entire notebook - it will skip the installation step if the packages are already installed."
   ]
  },
  {
   "cell_type": "markdown",
   "metadata": {
    "collapsed": false
   },
   "source": [
    "With the packages installed, we can now get started on the practical session!\n",
    "\n",
    "Today, we will be working with the famous MNIST dataset. MNIST (Modified National Institute of Standards and Technology) is a database of low resolution images of handwritten digits. The history here is interesting - the dataset was originally created in the 1980s, when researchers from the aforementioned institute collected samples from American Census Bureau employees and high school students. The dataset was then modified in the 1990s (hence the M in MNIST), and has since become a popular benchmark for machine learning algorithms. \n",
    "\n",
    "The dataset contains images, each of which is a 28x28 grayscale image of a handwritten digit. The goal is to classify each image into one of the 10 possible classes (0-9).\n",
    "\n",
    "![MNIST](https://upload.wikimedia.org/wikipedia/commons/2/27/MnistExamples.png)\n",
    "\n",
    "The Scikit-Learn library provides a convenient function to download and load the MNIST dataset. The following cell will download the dataset. Then we will take a look at the shape of the data."
   ]
  },
  {
   "cell_type": "code",
   "execution_count": 49,
   "metadata": {},
   "outputs": [],
   "source": [
    "import matplotlib.pyplot as plt\n",
    "import numpy as np\n",
    "\n",
    "from sklearn.datasets import load_digits\n",
    "\n",
    "digits = load_digits()"
   ]
  },
  {
   "cell_type": "code",
   "execution_count": 50,
   "metadata": {},
   "outputs": [
    {
     "data": {
      "text/plain": [
       "(1797, 8, 8)"
      ]
     },
     "execution_count": 50,
     "metadata": {},
     "output_type": "execute_result"
    }
   ],
   "source": [
    "digits.images.shape"
   ]
  },
  {
   "cell_type": "markdown",
   "metadata": {
    "collapsed": false
   },
   "source": [
    "This means that we have 1797 images, each of which is a 8x8 image. For basic image processing, we will need to flatten the images into a 1D array. In this case, Scikit-Learn has already provided the data in this format too:"
   ]
  },
  {
   "cell_type": "code",
   "execution_count": 51,
   "metadata": {},
   "outputs": [
    {
     "data": {
      "text/plain": [
       "(1797, 64)"
      ]
     },
     "execution_count": 51,
     "metadata": {},
     "output_type": "execute_result"
    }
   ],
   "source": [
    "digits.data.shape"
   ]
  },
  {
   "cell_type": "markdown",
   "metadata": {
    "collapsed": false
   },
   "source": [
    "For each image, we also have the corresponding label (or target, or class) in `digits.target`:"
   ]
  },
  {
   "cell_type": "code",
   "execution_count": 52,
   "metadata": {},
   "outputs": [
    {
     "data": {
      "text/plain": [
       "(1797,)"
      ]
     },
     "execution_count": 52,
     "metadata": {},
     "output_type": "execute_result"
    }
   ],
   "source": [
    "digits.target.shape"
   ]
  },
  {
   "cell_type": "markdown",
   "metadata": {
    "collapsed": false
   },
   "source": [
    "We can take a look at some random images from the dataset. The following cell will select 9 random images and plot them in a 3x3 grid (meaning that you can rerun the cell to see different images)."
   ]
  },
  {
   "cell_type": "code",
   "execution_count": 53,
   "metadata": {},
   "outputs": [
    {
     "data": {
      "image/png": "[encoded data removed]",
      "text/plain": [
       "<Figure size 600x600 with 9 Axes>"
      ]
     },
     "metadata": {},
     "output_type": "display_data"
    }
   ],
   "source": [
    "# Selecting 9 random indices\n",
    "random_indices = np.random.choice(len(digits.images), 9, replace=False)\n",
    "\n",
    "# Creating a 3x3 grid plot\n",
    "fig, axes = plt.subplots(3, 3, figsize=(6, 6))\n",
    "\n",
    "for i, ax in enumerate(axes.flat):\n",
    "    ax.imshow(digits.images[random_indices[i]], cmap=plt.cm.gray_r, interpolation='nearest')\n",
    "    ax.set_title(f\"Label: {digits.target[random_indices[i]]}\")\n",
    "\n",
    "    # Removing axis labels\n",
    "    ax.set_xticks([])\n",
    "    ax.set_yticks([])\n",
    "\n",
    "plt.show()"
   ]
  },
  {
   "cell_type": "markdown",
   "metadata": {
    "collapsed": false
   },
   "source": [
    "As you can see, these images are very low resolution. This is because they were originally scanned from paper forms, and then scaled down to 8x8 pixels. This is a common problem in machine learning - the quality of the data is often a limiting factor in the performance of the model. In this case, the low resolution of the images makes it difficult to distinguish between some digits, even for humans. For example, the following images are all labelled as 9, but they look very different:"
   ]
  },
  {
   "cell_type": "code",
   "execution_count": 54,
   "metadata": {
    "collapsed": false
   },
   "outputs": [
    {
     "data": {
      "image/png": "[encoded data removed]",
      "text/plain": [
       "<Figure size 600x600 with 9 Axes>"
      ]
     },
     "metadata": {},
     "output_type": "display_data"
    }
   ],
   "source": [
    "# Selecting 9 random indices of images labelled as 9\n",
    "random_indices = np.random.choice(np.where(digits.target == 9)[0], 9, replace=False)\n",
    "\n",
    "# Creating a 3x3 grid plot\n",
    "fig, axes = plt.subplots(3, 3, figsize=(6, 6))\n",
    "\n",
    "for i, ax in enumerate(axes.flat):\n",
    "    ax.imshow(digits.images[random_indices[i]], cmap=plt.cm.gray_r, interpolation='nearest')\n",
    "    ax.set_title(f\"Label: {digits.target[random_indices[i]]}\")\n",
    "\n",
    "    # Removing axis labels\n",
    "    ax.set_xticks([])\n",
    "    ax.set_yticks([])\n",
    "    \n",
    "plt.show()"
   ]
  },
  {
   "cell_type": "markdown",
   "metadata": {
    "collapsed": false
   },
   "source": [
    "While we are plotting the samples as images, remember that our model is only going to see a 1D array of numbers. "
   ]
  },
  {
   "cell_type": "markdown",
   "metadata": {},
   "source": [
    "## Train / Test Split\n",
    "\n",
    "In order to understand how well our model performs on _new_ data, we need to split our dataset into a training set and a test set. The training set will be used to train the model, and the test set will be used to evaluate the performance of the model.\n",
    "\n",
    "Let's keep some held-out data to be able to measure the generalization performance of our model. "
   ]
  },
  {
   "cell_type": "code",
   "execution_count": 55,
   "metadata": {},
   "outputs": [],
   "source": [
    "from sklearn.model_selection import train_test_split\n",
    "\n",
    "\n",
    "X_train, X_test, y_train, y_test = train_test_split(\n",
    "    digits.data, \n",
    "    digits.target,\n",
    "    test_size=0.2, # 20% of the data is used for testing\n",
    "    random_state=42 # Providing a value here means getting the same \"random\" split every time\n",
    ")"
   ]
  },
  {
   "cell_type": "markdown",
   "metadata": {
    "collapsed": false
   },
   "source": [
    "Let's confirm that the data has been split correctly:"
   ]
  },
  {
   "cell_type": "code",
   "execution_count": 56,
   "metadata": {
    "collapsed": false
   },
   "outputs": [
    {
     "name": "stdout",
     "output_type": "stream",
     "text": [
      "X_train shape: (1437, 64)\n",
      "y_train shape: (1437,)\n",
      "X_test shape: (360, 64)\n",
      "y_test shape: (360,)\n"
     ]
    }
   ],
   "source": [
    "print(f'X_train shape: {X_train.shape}')\n",
    "print(f'y_train shape: {y_train.shape}')\n",
    "print(f'X_test shape: {X_test.shape}')\n",
    "print(f'y_test shape: {y_test.shape}')"
   ]
  },
  {
   "cell_type": "markdown",
   "metadata": {
    "collapsed": false
   },
   "source": [
    "This is what we expected to see. It's always good to check as you go, to make sure that you haven't made a mistake somewhere - this is something that working in a notebook like this makes it easy to do."
   ]
  },
  {
   "cell_type": "markdown",
   "metadata": {},
   "source": [
    "## Preprocessing of the Target Data\n",
    "\n",
    "The labels that we have are integers between 0 and 9. However, we want to train a neural network to classify the images into one of 10 classes. It can be a little counter-intuitive because we are dealing with numbers, but our classes are not ordinal.\n",
    "\n",
    "What do we mean by that? Let's imagine we were trying to predict the height of a building (separated into classes) from images. If a given building was actually 10m tall, and our model predicted 9m, we would consider that to be a better prediction than if it predicted 1m. This is because the classes are ordinal - there is meaning in the difference between the classes.\n",
    "\n",
    "In our case, even though we are dealing with numbers, the classes are not ordinal. If a given image is actually a 9, and our model predicts 8, we would consider that to be just as bad as if it predicted 1. This is because the classes are not ordered, and the difference between the classes is not meaningful.\n",
    "\n",
    "Because of this, we need to convert our labels from an integer value into a one-hot encoded vector. This means that each label will be represented as a vector of length 10, with a 1 in the position corresponding to the class, and 0s everywhere else. For example, the label 9 would be represented as `[0, 0, 0, 0, 0, 0, 0, 0, 0, 1]`. This is a common way of representing categorical data in machine learning. By doing this, we ensure that our model is taught the correct relationship between the classes."
   ]
  },
  {
   "cell_type": "code",
   "execution_count": 57,
   "metadata": {},
   "outputs": [
    {
     "name": "stdout",
     "output_type": "stream",
     "text": [
      "Before one-hot encoding: 6\n",
      "After one-hot encoding: [0. 0. 0. 0. 0. 0. 1. 0. 0. 0.]\n"
     ]
    }
   ],
   "source": [
    "from tensorflow.keras.utils import to_categorical\n",
    "\n",
    "print(f'Before one-hot encoding: {y_train[0]}')\n",
    "y_train = to_categorical(y_train, num_classes=10)\n",
    "y_test = to_categorical(y_test, num_classes=10)\n",
    "print(f'After one-hot encoding: {y_train[0]}')"
   ]
  },
  {
   "cell_type": "markdown",
   "metadata": {},
   "source": [
    "## Feed Forward Neural Networks with Keras\n",
    "\n",
    "Now that we have prepared our data, it's time to build a simple neural network! In this section, we will use the Keras API to build a simple feed forward neural network. We will then train the model on the MNIST dataset, and evaluate its performance on the test set.\n",
    "\n",
    "In most modern deep learning frameworks, the process of building a model can be broken down into a few steps:\n",
    "\n",
    "- Define the model architecture: this is where we define the layers of the model, and how they are connected to each other.\n",
    "- Compile the model: this is where we define the loss function, the optimizer, and the metrics that we want to use to evaluate the model.\n",
    "- Train the model: this is where we train the model on the training data.\n",
    "\n",
    "Let's start with defining the model architecture. There are two ways to do this in Keras - the Sequential API and the Functional API. The Sequential API is the simplest way to build a model, and is suitable for most use cases. The Functional API is more flexible, and allows you to build more complex models. We will start with the Sequential API, and then we will look at the Functional API later in the course.\n",
    "\n",
    "Our simple neural network will be \"fully-connected\". This means that each neuron in a given layer is connected to every neuron in the next layer. This is also known as a \"dense\" layer. We will use the `Dense` class from Keras to define our layers."
   ]
  },
  {
   "cell_type": "code",
   "execution_count": 58,
   "metadata": {
    "collapsed": false
   },
   "outputs": [
    {
     "name": "stdout",
     "output_type": "stream",
     "text": [
      "Model: \"sequential_13\"\n",
      "_________________________________________________________________\n",
      " Layer (type)                Output Shape              Param #   \n",
      "=================================================================\n",
      " dense_39 (Dense)            (None, 64)                4160      \n",
      "                                                                 \n",
      " dense_40 (Dense)            (None, 64)                4160      \n",
      "                                                                 \n",
      " dense_41 (Dense)            (None, 10)                650       \n",
      "                                                                 \n",
      "=================================================================\n",
      "Total params: 8,970\n",
      "Trainable params: 8,970\n",
      "Non-trainable params: 0\n",
      "_________________________________________________________________\n"
     ]
    }
   ],
   "source": [
    "from tensorflow.keras.models import Sequential\n",
    "from tensorflow.keras.layers import Dense\n",
    "\n",
    "model = Sequential()\n",
    "\n",
    "# Input layer\n",
    "model.add(Dense(64, activation='relu', input_shape=(64,))) # 64 neurons, ReLU activation, input shape of 64\n",
    "\n",
    "# Hidden layer\n",
    "model.add(Dense(64, activation='relu')) # 64 neurons, ReLU activation\n",
    "\n",
    "# Output layer\n",
    "model.add(Dense(10, activation='softmax')) # 10 neurons, softmax activation\n",
    "\n",
    "model.summary()"
   ]
  },
  {
   "cell_type": "markdown",
   "metadata": {
    "collapsed": false
   },
   "source": [
    "Congratulations! You have just built your first neural network with Keras. As we can confirm from the `model.summary()` output, our model has 3 layers. The first layer has 64 neurons, the second layer has 64 neurons, and the output layer has 10 neurons. The output layer uses the softmax activation function, which is commonly used for multi-class classification problems. The other layers use the ReLU activation function, which is commonly used for hidden layers in neural networks.\n",
    "\n",
    "Next, we need to compile the model. This is where we define the loss function, the optimizer, and the metrics that we want to use to evaluate the model. We will use the `compile` method of the model to do this."
   ]
  },
  {
   "cell_type": "code",
   "execution_count": 59,
   "metadata": {
    "collapsed": false
   },
   "outputs": [],
   "source": [
    "model.compile(\n",
    "    loss='categorical_crossentropy', # Loss function\n",
    "    optimizer='sgd', # Optimizer\n",
    "    metrics=['accuracy'] # Metrics to evaluate the model\n",
    ")"
   ]
  },
  {
   "cell_type": "markdown",
   "metadata": {
    "collapsed": false
   },
   "source": [
    "Because we are predicting which class a sample belongs to, we will use the `categorical_crossentropy` function. This loss function is commonly used for multi-class classification problems. \n",
    "\n",
    "For our optimizer, we are using the standard stochastic gradient descent (SGD) algorithm. This is a simple optimizer that works well for many problems. We will look at more advanced optimizers later in the course.\n",
    "\n",
    "Finally, we are using the `accuracy` metric to evaluate the model. This is a common metric for classification problems, and it is simply the fraction of samples that are correctly classified. This is an easier metric for us to understand, but it's not quite as useful for actually training the model (for example, it doesn't tell us how \"confident\" the model is in its predictions).\n",
    "\n",
    "Now that we have (a) defined the model architecture and (b) compiled the model, we are ready to train the model. We will use the `fit` method of the model to do this."
   ]
  },
  {
   "cell_type": "code",
   "execution_count": 60,
   "metadata": {
    "collapsed": false
   },
   "outputs": [
    {
     "name": "stdout",
     "output_type": "stream",
     "text": [
      "Epoch 1/5\n",
      "36/36 [==============================] - 12s 81ms/step - loss: 1.8881 - accuracy: 0.5239 - val_loss: 0.6609 - val_accuracy: 0.8125\n",
      "Epoch 2/5\n",
      "36/36 [==============================] - 0s 11ms/step - loss: 0.4773 - accuracy: 0.8468 - val_loss: 0.4197 - val_accuracy: 0.8750\n",
      "Epoch 3/5\n",
      "36/36 [==============================] - 0s 11ms/step - loss: 0.2982 - accuracy: 0.9112 - val_loss: 0.3650 - val_accuracy: 0.8993\n",
      "Epoch 4/5\n",
      "36/36 [==============================] - 0s 7ms/step - loss: 0.2249 - accuracy: 0.9339 - val_loss: 0.3015 - val_accuracy: 0.9028\n",
      "Epoch 5/5\n",
      "36/36 [==============================] - 0s 8ms/step - loss: 0.1772 - accuracy: 0.9513 - val_loss: 0.2393 - val_accuracy: 0.9236\n"
     ]
    },
    {
     "data": {
      "text/plain": [
       "<keras.callbacks.History at 0x23b9f3f6d60>"
      ]
     },
     "execution_count": 60,
     "metadata": {},
     "output_type": "execute_result"
    }
   ],
   "source": [
    "model.fit(\n",
    "    X_train, # Training data\n",
    "    y_train, # Training labels\n",
    "    epochs=5, # Number of epochs\n",
    "    batch_size=32, # Number of samples per batch\n",
    "    validation_split=0.2 # Use 20% of the data for validation\n",
    ")"
   ]
  },
  {
   "cell_type": "markdown",
   "metadata": {
    "collapsed": false
   },
   "source": [
    "We have now trained our model! We can see that the model has been trained for 5 epochs, and the loss and accuracy have been printed for each epoch. We can also see that the model has been evaluated on the validation data at the end of each epoch. This is useful for us to see how the model is performing on data that it hasn't seen during training.\n",
    "\n",
    "Once the model is trained, it's time to evaluate the model on the test set. We can use the `evaluate` method of the model to do this. If you were building a model for a real-world application, this is the very last thing you would do, and the result here would be the figure you'd report in your paper or presentation."
   ]
  },
  {
   "cell_type": "code",
   "execution_count": 61,
   "metadata": {
    "collapsed": false
   },
   "outputs": [
    {
     "name": "stdout",
     "output_type": "stream",
     "text": [
      "12/12 [==============================] - 1s 18ms/step - loss: 0.2140 - accuracy: 0.9194\n",
      "Loss:     0.21\n",
      "Accuracy: 91.94%\n"
     ]
    }
   ],
   "source": [
    "loss, accuracy = model.evaluate(X_test, y_test)\n",
    "\n",
    "print(f'Loss:     {loss:.2f}')\n",
    "print(f'Accuracy: {accuracy*100:.2f}%')"
   ]
  },
  {
   "cell_type": "markdown",
   "metadata": {
    "collapsed": false
   },
   "source": [
    "Hopefully you have achieved an accuracy of around 95%. This is pretty good, but we can do better! In the next section, we will look at how we can improve the performance of our model by using a more advanced optimizer. But before we get there, let's do one other thing - let's look at the predictions that our model is making on the test set. When you are building a model, it's often useful to have a look at some of the examples your model is getting wrong. Sometimes this can reveal problems with the data, or it can give you ideas for how to improve your model."
   ]
  },
  {
   "cell_type": "code",
   "execution_count": 62,
   "metadata": {
    "collapsed": false
   },
   "outputs": [
    {
     "name": "stdout",
     "output_type": "stream",
     "text": [
      "12/12 [==============================] - 0s 8ms/step\n"
     ]
    },
    {
     "data": {
      "image/png": "[encoded data removed]",
      "text/plain": [
       "<Figure size 600x600 with 9 Axes>"
      ]
     },
     "metadata": {},
     "output_type": "display_data"
    }
   ],
   "source": [
    "# Get the predictions for the test data\n",
    "predictions = model.predict(X_test)\n",
    "\n",
    "# Get the index of the largest probability (i.e. the predicted class)\n",
    "predicted_classes = np.argmax(predictions, axis=1)\n",
    "true_classes = np.argmax(y_test, axis=1)\n",
    "misclassified_indices = np.where(predicted_classes != true_classes)[0]\n",
    "\n",
    "# Get the misclassified samples themselves\n",
    "misclassified_samples = X_test[misclassified_indices]\n",
    "misclassified_labels = np.argmax(y_test[misclassified_indices], axis=1)\n",
    "\n",
    "# Pick 9 random misclassified samples\n",
    "random_indices = np.random.choice(len(misclassified_indices), 9, replace=False)\n",
    "\n",
    "fig, axes = plt.subplots(3, 3, figsize=(6, 6))\n",
    "for i, ax in enumerate(axes.flat):\n",
    "    ax.imshow(misclassified_samples[random_indices[i]].reshape(8, 8), cmap=plt.cm.gray_r, interpolation='nearest')\n",
    "    ax.set_title(f\"Pred: {predicted_classes[misclassified_indices[random_indices[i]]]}, Real: {misclassified_labels[random_indices[i]]}\")\n",
    "\n",
    "    # Removing axis labels\n",
    "    ax.set_xticks([])\n",
    "    ax.set_yticks([])\n",
    "    \n",
    "plt.show()"
   ]
  },
  {
   "cell_type": "markdown",
   "metadata": {
    "collapsed": false
   },
   "source": [
    "What do you think? Would you have made the same mistakes as the model? Determining whether the mistakes are \"understandable\" is a rough way of seeing if you could improve the model further, or if this is the best you can do with the data you have."
   ]
  },
  {
   "cell_type": "markdown",
   "metadata": {},
   "source": [
    "### b) Exercises: Impact of the Optimizer\n",
    "\n",
    "In this section, you will play around with the optimizer and see how it affects the performance of the model. We will start with the standard SGD optimizer, and then we will look at more advanced optimizers.\n",
    "\n",
    "1. Try decreasing the learning rate of the SGD optimizer by a factor of 10, or 100. What do you observe?\n",
    "2. Try increasing the learning rate of the SGD optimizer. What happens?\n",
    "3. The SGD optimizer has a momentum parameter. In a nutshell, this parameter controls how much the gradient from the previous step affects the current step. Try enabling momentum in the SGD optimizer with a value of 0.9. What happens?\n",
    "  \n",
    "**Notes**: \n",
    "\n",
    "The keras API documentation is available at:\n",
    "\n",
    "https://www.tensorflow.org/api_docs/python/tf/keras\n",
    "\n",
    "It is also possible to learn more about the parameters of a class by using the question mark: type and evaluate:\n",
    "\n",
    "```python\n",
    "optimizers.SGD?\n",
    "```\n",
    "\n",
    "in a jupyter notebook cell.\n",
    "\n",
    "It is also possible to type the beginning of a function call / constructor and type \"shift-tab\" after the opening paren:\n",
    "\n",
    "```python\n",
    "optimizers.SGD(<shift-tab>\n",
    "```"
   ]
  },
  {
   "cell_type": "code",
   "execution_count": 65,
   "metadata": {},
   "outputs": [
    {
     "name": "stdout",
     "output_type": "stream",
     "text": [
      "Model: \"sequential_15\"\n",
      "_________________________________________________________________\n",
      " Layer (type)                Output Shape              Param #   \n",
      "=================================================================\n",
      " dense_45 (Dense)            (None, 64)                4160      \n",
      "                                                                 \n",
      " dense_46 (Dense)            (None, 64)                4160      \n",
      "                                                                 \n",
      " dense_47 (Dense)            (None, 10)                650       \n",
      "                                                                 \n",
      "=================================================================\n",
      "Total params: 8,970\n",
      "Trainable params: 8,970\n",
      "Non-trainable params: 0\n",
      "_________________________________________________________________\n",
      "Epoch 1/15\n",
      "45/45 [==============================] - 2s 5ms/step - loss: 3.2490 - accuracy: 0.1879\n",
      "Epoch 2/15\n",
      "45/45 [==============================] - 0s 4ms/step - loss: 2.1095 - accuracy: 0.2262\n",
      "Epoch 3/15\n",
      "45/45 [==============================] - 0s 4ms/step - loss: 2.1758 - accuracy: 0.1942\n",
      "Epoch 4/15\n",
      "45/45 [==============================] - 0s 4ms/step - loss: 1.9204 - accuracy: 0.2909\n",
      "Epoch 5/15\n",
      "45/45 [==============================] - 0s 4ms/step - loss: 1.4565 - accuracy: 0.4579\n",
      "Epoch 6/15\n",
      "45/45 [==============================] - 0s 5ms/step - loss: 1.5649 - accuracy: 0.4050\n",
      "Epoch 7/15\n",
      "45/45 [==============================] - 0s 7ms/step - loss: 1.3498 - accuracy: 0.4391\n",
      "Epoch 8/15\n",
      "45/45 [==============================] - 0s 7ms/step - loss: 1.3560 - accuracy: 0.4308\n",
      "Epoch 9/15\n",
      "45/45 [==============================] - 0s 5ms/step - loss: 1.2753 - accuracy: 0.4649\n",
      "Epoch 10/15\n",
      "45/45 [==============================] - 0s 5ms/step - loss: 1.8312 - accuracy: 0.3326\n",
      "Epoch 11/15\n",
      "45/45 [==============================] - 0s 4ms/step - loss: 1.6843 - accuracy: 0.3076\n",
      "Epoch 12/15\n",
      "45/45 [==============================] - 0s 4ms/step - loss: 1.4832 - accuracy: 0.3723\n",
      "Epoch 13/15\n",
      "45/45 [==============================] - 0s 4ms/step - loss: 1.6031 - accuracy: 0.3486\n",
      "Epoch 14/15\n",
      "45/45 [==============================] - 0s 4ms/step - loss: 1.4493 - accuracy: 0.4015\n",
      "Epoch 15/15\n",
      "45/45 [==============================] - 0s 4ms/step - loss: 1.2403 - accuracy: 0.5296\n"
     ]
    }
   ],
   "source": [
    "# Your code here - copy the relevant parts from the previous section and add more cells as needed\n",
    "from tensorflow.keras.models import Sequential\n",
    "from tensorflow.keras.layers import Dense\n",
    "from tensorflow.keras import optimizers\n",
    "\n",
    "model = Sequential()\n",
    "\n",
    "# Input layer\n",
    "model.add(Dense(64, activation='relu', input_shape=(64,))) # 64 neurons, ReLU activation, input shape of 64\n",
    "\n",
    "# Hidden layer\n",
    "model.add(Dense(64, activation='relu')) # 64 neurons, ReLU activation\n",
    "\n",
    "# Output layer\n",
    "model.add(Dense(10, activation='softmax')) # 10 neurons, softmax activation\n",
    "\n",
    "model.summary()\n",
    "\n",
    "model.compile(\n",
    "    loss='categorical_crossentropy', # Loss function\n",
    "    optimizer=optimizers.SGD(learning_rate=0.1), # Optimizer\n",
    "    metrics=['accuracy'] # Metrics to evaluate the model\n",
    ")\n",
    "history = model.fit(X_train, y_train, epochs=15, batch_size=32)"
   ]
  },
  {
   "cell_type": "code",
   "execution_count": 67,
   "metadata": {},
   "outputs": [
    {
     "name": "stdout",
     "output_type": "stream",
     "text": [
      "Epoch 1/15\n",
      "45/45 [==============================] - 1s 4ms/step - loss: 0.2674 - accuracy: 0.9200\n",
      "Epoch 2/15\n",
      "45/45 [==============================] - 0s 4ms/step - loss: 0.1951 - accuracy: 0.9402\n",
      "Epoch 3/15\n",
      "45/45 [==============================] - 0s 4ms/step - loss: 0.1857 - accuracy: 0.9429\n",
      "Epoch 4/15\n",
      "45/45 [==============================] - 0s 4ms/step - loss: 0.1820 - accuracy: 0.9415\n",
      "Epoch 5/15\n",
      "45/45 [==============================] - 0s 6ms/step - loss: 0.1735 - accuracy: 0.9443\n",
      "Epoch 6/15\n",
      "45/45 [==============================] - 0s 6ms/step - loss: 0.1730 - accuracy: 0.9457\n",
      "Epoch 7/15\n",
      "45/45 [==============================] - 0s 6ms/step - loss: 0.1710 - accuracy: 0.9450\n",
      "Epoch 8/15\n",
      "45/45 [==============================] - 0s 7ms/step - loss: 0.1678 - accuracy: 0.9443\n",
      "Epoch 9/15\n",
      "45/45 [==============================] - 0s 5ms/step - loss: 0.1654 - accuracy: 0.9499\n",
      "Epoch 10/15\n",
      "45/45 [==============================] - 0s 4ms/step - loss: 0.1625 - accuracy: 0.9464\n",
      "Epoch 11/15\n",
      "45/45 [==============================] - 0s 4ms/step - loss: 0.1624 - accuracy: 0.9492\n",
      "Epoch 12/15\n",
      "45/45 [==============================] - 0s 4ms/step - loss: 0.1588 - accuracy: 0.9506\n",
      "Epoch 13/15\n",
      "45/45 [==============================] - 0s 4ms/step - loss: 0.1572 - accuracy: 0.9506\n",
      "Epoch 14/15\n",
      "45/45 [==============================] - 0s 5ms/step - loss: 0.1549 - accuracy: 0.9506\n",
      "Epoch 15/15\n",
      "45/45 [==============================] - 0s 4ms/step - loss: 0.1526 - accuracy: 0.9492\n"
     ]
    }
   ],
   "source": [
    "model.compile(\n",
    "    loss='categorical_crossentropy', # Loss function\n",
    "    optimizer=optimizers.SGD(learning_rate=0.01), # Optimizer\n",
    "    metrics=['accuracy'] # Metrics to evaluate the model\n",
    ")\n",
    "history = model.fit(X_train, y_train, epochs=15, batch_size=32)"
   ]
  },
  {
   "cell_type": "code",
   "execution_count": 68,
   "metadata": {},
   "outputs": [
    {
     "name": "stdout",
     "output_type": "stream",
     "text": [
      "Epoch 1/15\n",
      "45/45 [==============================] - 19s 5ms/step - loss: 0.2968 - accuracy: 0.9061\n",
      "Epoch 2/15\n",
      "45/45 [==============================] - 0s 4ms/step - loss: 0.4123 - accuracy: 0.8761\n",
      "Epoch 3/15\n",
      "45/45 [==============================] - 0s 6ms/step - loss: 0.2783 - accuracy: 0.9200\n",
      "Epoch 4/15\n",
      "45/45 [==============================] - 0s 7ms/step - loss: 0.3020 - accuracy: 0.9095\n",
      "Epoch 5/15\n",
      "45/45 [==============================] - 0s 5ms/step - loss: 0.3722 - accuracy: 0.8845\n",
      "Epoch 6/15\n",
      "45/45 [==============================] - 0s 4ms/step - loss: 0.3082 - accuracy: 0.8977\n",
      "Epoch 7/15\n",
      "45/45 [==============================] - 0s 4ms/step - loss: 0.3230 - accuracy: 0.9019\n",
      "Epoch 8/15\n",
      "45/45 [==============================] - 0s 4ms/step - loss: 0.3133 - accuracy: 0.8991\n",
      "Epoch 9/15\n",
      "45/45 [==============================] - 0s 4ms/step - loss: 0.2946 - accuracy: 0.9081\n",
      "Epoch 10/15\n",
      "45/45 [==============================] - 0s 4ms/step - loss: 0.2738 - accuracy: 0.9158\n",
      "Epoch 11/15\n",
      "45/45 [==============================] - 0s 4ms/step - loss: 0.2708 - accuracy: 0.9248\n",
      "Epoch 12/15\n",
      "45/45 [==============================] - 0s 4ms/step - loss: 0.3085 - accuracy: 0.9033\n",
      "Epoch 13/15\n",
      "45/45 [==============================] - 0s 4ms/step - loss: 0.3129 - accuracy: 0.9047\n",
      "Epoch 14/15\n",
      "45/45 [==============================] - 0s 4ms/step - loss: 0.2241 - accuracy: 0.9276\n",
      "Epoch 15/15\n",
      "45/45 [==============================] - 0s 4ms/step - loss: 0.2851 - accuracy: 0.9095\n"
     ]
    }
   ],
   "source": [
    "model.compile(\n",
    "    loss='categorical_crossentropy', # Loss function\n",
    "    optimizer=optimizers.SGD(learning_rate=0.01,momentum=0.9), # Optimizer\n",
    "    metrics=['accuracy'] # Metrics to evaluate the model\n",
    ")\n",
    "history = model.fit(X_train, y_train, epochs=15, batch_size=32)"
   ]
  },
  {
   "cell_type": "markdown",
   "metadata": {},
   "source": [
    "Next, let's try a more advanced optimizer. Adam is likely the most popular optimizer for deep learning. It is an adaptive learning rate optimizer, which means that it automatically adjusts the learning rate based on how the training is going. This can be very useful, as it means that we don't need to manually tune the learning rate. Let's see how it performs on our model.\n",
    "\n",
    "\n",
    "1. Replace the SGD optimizer by the Adam optimizer from keras and run it\n",
    "  with the default parameters.\n",
    "\n",
    "2. Add another hidden layer with ReLU activation and 64 neurons. Does it improve the model performance?\n"
   ]
  },
  {
   "cell_type": "code",
   "execution_count": 69,
   "metadata": {},
   "outputs": [
    {
     "name": "stdout",
     "output_type": "stream",
     "text": [
      "Epoch 1/15\n",
      "45/45 [==============================] - 3s 4ms/step - loss: 0.1619 - accuracy: 0.9450\n",
      "Epoch 2/15\n",
      "45/45 [==============================] - 0s 5ms/step - loss: 0.1304 - accuracy: 0.9562\n",
      "Epoch 3/15\n",
      "45/45 [==============================] - 0s 6ms/step - loss: 0.1245 - accuracy: 0.9596\n",
      "Epoch 4/15\n",
      "45/45 [==============================] - 0s 4ms/step - loss: 0.1189 - accuracy: 0.9576\n",
      "Epoch 5/15\n",
      "45/45 [==============================] - 0s 4ms/step - loss: 0.1158 - accuracy: 0.9576\n",
      "Epoch 6/15\n",
      "45/45 [==============================] - 0s 4ms/step - loss: 0.1129 - accuracy: 0.9582\n",
      "Epoch 7/15\n",
      "45/45 [==============================] - 0s 4ms/step - loss: 0.1102 - accuracy: 0.9610\n",
      "Epoch 8/15\n",
      "45/45 [==============================] - 0s 4ms/step - loss: 0.1091 - accuracy: 0.9610\n",
      "Epoch 9/15\n",
      "45/45 [==============================] - 0s 4ms/step - loss: 0.1066 - accuracy: 0.9638\n",
      "Epoch 10/15\n",
      "45/45 [==============================] - 1s 13ms/step - loss: 0.1057 - accuracy: 0.9596\n",
      "Epoch 11/15\n",
      "45/45 [==============================] - 0s 6ms/step - loss: 0.1026 - accuracy: 0.9589\n",
      "Epoch 12/15\n",
      "45/45 [==============================] - 0s 8ms/step - loss: 0.1010 - accuracy: 0.9617\n",
      "Epoch 13/15\n",
      "45/45 [==============================] - 0s 8ms/step - loss: 0.0989 - accuracy: 0.9617\n",
      "Epoch 14/15\n",
      "45/45 [==============================] - 0s 8ms/step - loss: 0.0982 - accuracy: 0.9624\n",
      "Epoch 15/15\n",
      "45/45 [==============================] - 0s 5ms/step - loss: 0.0935 - accuracy: 0.9638\n"
     ]
    }
   ],
   "source": [
    "# Your code here\n",
    "# Compile the model with Adam optimizer\n",
    "model.compile(\n",
    "    loss='categorical_crossentropy',  # Loss function\n",
    "    optimizer='adam',                # Use Adam optimizer with default parameters\n",
    "    metrics=['accuracy']             # Metrics to evaluate the model\n",
    ")\n",
    "\n",
    "# Train the model\n",
    "history = model.fit(X_train, y_train, epochs=15, batch_size=32)"
   ]
  },
  {
   "cell_type": "code",
   "execution_count": 70,
   "metadata": {},
   "outputs": [
    {
     "name": "stdout",
     "output_type": "stream",
     "text": [
      "Model: \"sequential_16\"\n",
      "_________________________________________________________________\n",
      " Layer (type)                Output Shape              Param #   \n",
      "=================================================================\n",
      " dense_48 (Dense)            (None, 64)                4160      \n",
      "                                                                 \n",
      " dense_49 (Dense)            (None, 64)                4160      \n",
      "                                                                 \n",
      " dense_50 (Dense)            (None, 64)                4160      \n",
      "                                                                 \n",
      " dense_51 (Dense)            (None, 10)                650       \n",
      "                                                                 \n",
      "=================================================================\n",
      "Total params: 13,130\n",
      "Trainable params: 13,130\n",
      "Non-trainable params: 0\n",
      "_________________________________________________________________\n",
      "Epoch 1/15\n",
      "45/45 [==============================] - 2s 5ms/step - loss: 1.8378 - accuracy: 0.4857\n",
      "Epoch 2/15\n",
      "45/45 [==============================] - 0s 5ms/step - loss: 0.4044 - accuracy: 0.8900\n",
      "Epoch 3/15\n",
      "45/45 [==============================] - 0s 7ms/step - loss: 0.1997 - accuracy: 0.9450\n",
      "Epoch 4/15\n",
      "45/45 [==============================] - 0s 5ms/step - loss: 0.1261 - accuracy: 0.9687\n",
      "Epoch 5/15\n",
      "45/45 [==============================] - 0s 5ms/step - loss: 0.0898 - accuracy: 0.9791\n",
      "Epoch 6/15\n",
      "45/45 [==============================] - 0s 8ms/step - loss: 0.0603 - accuracy: 0.9875\n",
      "Epoch 7/15\n",
      "45/45 [==============================] - 0s 5ms/step - loss: 0.0374 - accuracy: 0.9958\n",
      "Epoch 8/15\n",
      "45/45 [==============================] - 0s 5ms/step - loss: 0.0291 - accuracy: 0.9972\n",
      "Epoch 9/15\n",
      "45/45 [==============================] - 0s 9ms/step - loss: 0.0232 - accuracy: 0.9986\n",
      "Epoch 10/15\n",
      "45/45 [==============================] - 0s 5ms/step - loss: 0.0231 - accuracy: 0.9979\n",
      "Epoch 11/15\n",
      "45/45 [==============================] - 0s 5ms/step - loss: 0.0171 - accuracy: 0.9979\n",
      "Epoch 12/15\n",
      "45/45 [==============================] - 0s 4ms/step - loss: 0.0132 - accuracy: 0.9986\n",
      "Epoch 13/15\n",
      "45/45 [==============================] - 0s 5ms/step - loss: 0.0084 - accuracy: 0.9993\n",
      "Epoch 14/15\n",
      "45/45 [==============================] - 1s 14ms/step - loss: 0.0093 - accuracy: 0.9993\n",
      "Epoch 15/15\n",
      "45/45 [==============================] - 0s 10ms/step - loss: 0.0065 - accuracy: 1.0000\n"
     ]
    }
   ],
   "source": [
    "from tensorflow.keras.models import Sequential\n",
    "from tensorflow.keras.layers import Dense\n",
    "from tensorflow.keras.optimizers import Adam\n",
    "\n",
    "# Define the new model\n",
    "model = Sequential()\n",
    "\n",
    "# Input layer\n",
    "model.add(Dense(64, activation='relu', input_shape=(64,)))\n",
    "\n",
    "# Hidden layer 1\n",
    "model.add(Dense(64, activation='relu'))\n",
    "\n",
    "# Hidden layer 2 (new layer added)\n",
    "model.add(Dense(64, activation='relu'))\n",
    "\n",
    "# Output layer\n",
    "model.add(Dense(10, activation='softmax'))\n",
    "\n",
    "# Show the updated model summary\n",
    "model.summary()\n",
    "\n",
    "# Compile the model with the Adam optimizer\n",
    "model.compile(\n",
    "    loss='categorical_crossentropy',  # Loss function\n",
    "    optimizer='adam',                # Use Adam optimizer with default parameters\n",
    "    metrics=['accuracy']             # Metrics to evaluate the model\n",
    ")\n",
    "\n",
    "# Train the model\n",
    "history = model.fit(X_train, y_train, epochs=15, batch_size=32)"
   ]
  },
  {
   "cell_type": "markdown",
   "metadata": {},
   "source": [
    "By adding the hidden layer, following differences can be observed:\n",
    "\n",
    "Accuracy Improvement:\n",
    "The second model significantly outperforms the first in terms of accuracy (100.00% vs. 96.38%), indicating the added layer enhances the model’s capacity for learning.\n",
    "\n",
    "Loss Behavior:\n",
    "The first model shows steady but modest improvements in loss, while the second model rapidly reduces loss, showcasing the advantage of increased depth.\n",
    "\n",
    "Overfitting Potential:\n",
    "The second model’s near-perfect accuracy suggests a risk of overfitting, especially if the dataset is small or not well-regularized.\n",
    "\n",
    "Use Case Fit:\n",
    "The first model might suffice for simpler datasets or when computational resources are limited.\n",
    "The second model is better suited for more complex datasets requiring greater model capacity."
   ]
  },
  {
   "cell_type": "markdown",
   "metadata": {},
   "source": [
    "### Exercises: Forward Pass and Generalization\n",
    "\n",
    "Let's look in more detail at how the model makes predictions on the test set. We will walk through each step of making predictions, examining exactly what's going on.\n",
    "\n",
    "To start, we will apply our model to the test set, and look at what we get as output:"
   ]
  },
  {
   "cell_type": "code",
   "execution_count": 71,
   "metadata": {},
   "outputs": [
    {
     "data": {
      "text/plain": [
       "<tf.Tensor: shape=(5, 10), dtype=float32, numpy=\n",
       "array([[4.7646343e-05, 2.9202832e-07, 5.6172727e-08, 1.4181069e-07,\n",
       "        5.1365652e-07, 1.2959315e-06, 9.9985623e-01, 8.2515311e-07,\n",
       "        9.2848459e-05, 2.4266444e-07],\n",
       "       [1.2472444e-05, 1.2823065e-06, 1.6580735e-10, 2.0372272e-05,\n",
       "        1.6441211e-08, 2.6550075e-02, 5.2456212e-10, 1.6311360e-05,\n",
       "        1.0591622e-06, 9.7339839e-01],\n",
       "       [4.6197202e-09, 6.3433072e-09, 6.9927404e-07, 9.9962467e-01,\n",
       "        4.5355972e-09, 3.6693244e-05, 1.6318170e-09, 1.0850867e-07,\n",
       "        3.9589700e-05, 2.9828880e-04],\n",
       "       [1.5490123e-05, 2.3820571e-04, 9.0119903e-07, 6.3616944e-06,\n",
       "        7.3031709e-04, 1.0914437e-03, 4.9053897e-06, 9.9602330e-01,\n",
       "        5.1782390e-06, 1.8838404e-03],\n",
       "       [1.8890072e-05, 5.4960560e-06, 7.9236293e-01, 1.5073527e-01,\n",
       "        4.7782697e-07, 7.0434266e-06, 3.8886872e-05, 2.2804428e-05,\n",
       "        5.6774788e-02, 3.3462751e-05]], dtype=float32)>"
      ]
     },
     "execution_count": 71,
     "metadata": {},
     "output_type": "execute_result"
    }
   ],
   "source": [
    "predictions_tf = model(X_test)\n",
    "predictions_tf[:5]"
   ]
  },
  {
   "cell_type": "code",
   "execution_count": 72,
   "metadata": {},
   "outputs": [
    {
     "data": {
      "text/plain": [
       "(tensorflow.python.framework.ops.EagerTensor, TensorShape([360, 10]))"
      ]
     },
     "execution_count": 72,
     "metadata": {},
     "output_type": "execute_result"
    }
   ],
   "source": [
    "type(predictions_tf), predictions_tf.shape"
   ]
  },
  {
   "cell_type": "markdown",
   "metadata": {},
   "source": [
    "The raw output of the model is a tensor of shape `(360, 10)`. This means that we have 360 samples, and for each sample we have 10 values. Each of these values represents the probability that the sample belongs to a given class. This means that we have 10 probabilities for each sample, and the sum of these probabilities is 1. We can confirm this by summing the probabilities for each sample:"
   ]
  },
  {
   "cell_type": "code",
   "execution_count": 73,
   "metadata": {},
   "outputs": [
    {
     "data": {
      "text/plain": [
       "<tf.Tensor: shape=(5,), dtype=float32, numpy=\n",
       "array([1.0000001 , 1.        , 1.0000001 , 0.99999994, 1.        ],\n",
       "      dtype=float32)>"
      ]
     },
     "execution_count": 73,
     "metadata": {},
     "output_type": "execute_result"
    }
   ],
   "source": [
    "import tensorflow as tf\n",
    "\n",
    "tf.reduce_sum(predictions_tf, axis=1)[:5]"
   ]
  },
  {
   "cell_type": "markdown",
   "metadata": {
    "collapsed": false
   },
   "source": [
    "...okay, there might be a small rounding error here and there. This is to do with how floating point numbers are represented in computers, and it's not something we need to worry about for now."
   ]
  },
  {
   "cell_type": "markdown",
   "metadata": {},
   "source": [
    "We can also extract the label with the highest probability using the tensorflow API:"
   ]
  },
  {
   "cell_type": "code",
   "execution_count": 74,
   "metadata": {},
   "outputs": [
    {
     "data": {
      "text/plain": [
       "<tf.Tensor: shape=(5,), dtype=int64, numpy=array([6, 9, 3, 7, 2], dtype=int64)>"
      ]
     },
     "execution_count": 74,
     "metadata": {},
     "output_type": "execute_result"
    }
   ],
   "source": [
    "predicted_labels_tf = tf.argmax(predictions_tf, axis=1)\n",
    "predicted_labels_tf[:5]"
   ]
  },
  {
   "cell_type": "markdown",
   "metadata": {
    "collapsed": false
   },
   "source": [
    "One helpful aspect of this approach is that we don't just get the prediction, but also a sense of how confident the model is in its prediction. To see this in practice, let's take a look at some of the predictions the model is highly confident about (i.e. a lot of the probability mass is on one class):"
   ]
  },
  {
   "cell_type": "code",
   "execution_count": 75,
   "metadata": {
    "collapsed": false
   },
   "outputs": [
    {
     "data": {
      "image/png": "[encoded data removed]",
      "text/plain": [
       "<Figure size 600x600 with 9 Axes>"
      ]
     },
     "metadata": {},
     "output_type": "display_data"
    }
   ],
   "source": [
    "# Get the values corresponding to the predicted labels for each sample\n",
    "predicted_values_tf = tf.reduce_max(predictions_tf, axis=1)\n",
    "\n",
    "# Get the indices of the samples with the highest predicted values\n",
    "most_confident_indices_tf = tf.argsort(predicted_values_tf, direction='DESCENDING').numpy()[:9]\n",
    "\n",
    "# Get the 9 most confident samples\n",
    "most_confident_samples_tf = X_test[most_confident_indices_tf]\n",
    "\n",
    "# Get the true labels for the 9 most confident samples\n",
    "most_confident_labels_tf = np.argmax(y_test[most_confident_indices_tf], axis=1)\n",
    "\n",
    "# Plot the 9 most confident samples\n",
    "fig, axes = plt.subplots(3, 3, figsize=(6, 6))\n",
    "\n",
    "for i, ax in enumerate(axes.flat):\n",
    "    ax.imshow(most_confident_samples_tf[i].reshape(8, 8), cmap=plt.cm.gray_r, interpolation='nearest')\n",
    "    ax.set_title(f\"{most_confident_labels_tf[i]}\")\n",
    "\n",
    "    # Removing axis labels\n",
    "    ax.set_xticks([])\n",
    "    ax.set_yticks([])\n",
    "    \n",
    "plt.show()"
   ]
  },
  {
   "cell_type": "markdown",
   "metadata": {},
   "source": [
    "## Impact of Initialization\n",
    "\n",
    "Let's study the impact of a bad initialization when training\n",
    "a deep feed forward network.\n",
    "\n",
    "By default, Keras dense layers use the \"Glorot Uniform\" initialization\n",
    "strategy to initialize the weight matrices:\n",
    "\n",
    "- each weight coefficient is randomly sampled from [-scale, scale]\n",
    "- scale is proportional to $\\frac{1}{\\sqrt{n_{in} + n_{out}}}$\n",
    "\n",
    "This strategy is known to work well to initialize deep neural networks\n",
    "with \"tanh\" or \"relu\" activation functions and then trained with\n",
    "standard SGD.\n",
    "\n",
    "To assess the impact of initialization let us plug an alternative init\n",
    "scheme into a 2 hidden layers networks with \"tanh\" activations.\n",
    "For the sake of the example let's use normal distributed weights\n",
    "with a manually adjustable scale (standard deviation) and see the\n",
    "impact the scale value:"
   ]
  },
  {
   "cell_type": "code",
   "execution_count": 76,
   "metadata": {},
   "outputs": [],
   "source": [
    "from tensorflow.keras import initializers\n",
    "from tensorflow.keras import optimizers\n",
    "\n",
    "input_dim = 64\n",
    "hidden_dim = 64\n",
    "output_dim = 10\n",
    "\n",
    "normal_init = initializers.TruncatedNormal(stddev=0.01, seed=42)\n",
    "\n",
    "model = Sequential()\n",
    "model.add(Dense(hidden_dim, input_dim=input_dim, activation=\"tanh\",\n",
    "                kernel_initializer=normal_init))\n",
    "model.add(Dense(hidden_dim, activation=\"tanh\",\n",
    "                kernel_initializer=normal_init))\n",
    "model.add(Dense(output_dim, activation=\"softmax\",\n",
    "                kernel_initializer=normal_init))\n",
    "\n",
    "model.compile(optimizer=optimizers.SGD(learning_rate=0.1),\n",
    "              loss='categorical_crossentropy', metrics=['accuracy'])"
   ]
  },
  {
   "cell_type": "code",
   "execution_count": 77,
   "metadata": {},
   "outputs": [
    {
     "data": {
      "text/plain": [
       "[<keras.layers.core.dense.Dense at 0x23ba3f9b910>,\n",
       " <keras.layers.core.dense.Dense at 0x23ba0b04400>,\n",
       " <keras.layers.core.dense.Dense at 0x23ba205c760>]"
      ]
     },
     "execution_count": 77,
     "metadata": {},
     "output_type": "execute_result"
    }
   ],
   "source": [
    "model.layers"
   ]
  },
  {
   "cell_type": "markdown",
   "metadata": {},
   "source": [
    "Let's have a look at the parameters of the first layer after initialization but before any training has happened:"
   ]
  },
  {
   "cell_type": "code",
   "execution_count": 78,
   "metadata": {},
   "outputs": [
    {
     "data": {
      "text/plain": [
       "[<tf.Variable 'dense_52/kernel:0' shape=(64, 64) dtype=float32, numpy=\n",
       " array([[ 0.00015817, -0.01590087,  0.00103594, ...,  0.00962818,\n",
       "          0.00624957,  0.00994726],\n",
       "        [ 0.0081879 ,  0.00756818, -0.00668142, ...,  0.01084459,\n",
       "         -0.00317478, -0.00549116],\n",
       "        [-0.00086618, -0.00287623,  0.00391693, ...,  0.00064558,\n",
       "         -0.00420471,  0.00174566],\n",
       "        ...,\n",
       "        [-0.0029006 , -0.0091218 ,  0.00804327, ..., -0.01407086,\n",
       "          0.00952832, -0.01348555],\n",
       "        [ 0.00375078,  0.00967842,  0.00098119, ..., -0.00413454,\n",
       "          0.01695471,  0.00025196],\n",
       "        [ 0.00459809,  0.01223094, -0.00213172, ...,  0.01246831,\n",
       "         -0.00714749, -0.00868595]], dtype=float32)>,\n",
       " <tf.Variable 'dense_52/bias:0' shape=(64,) dtype=float32, numpy=\n",
       " array([0., 0., 0., 0., 0., 0., 0., 0., 0., 0., 0., 0., 0., 0., 0., 0., 0.,\n",
       "        0., 0., 0., 0., 0., 0., 0., 0., 0., 0., 0., 0., 0., 0., 0., 0., 0.,\n",
       "        0., 0., 0., 0., 0., 0., 0., 0., 0., 0., 0., 0., 0., 0., 0., 0., 0.,\n",
       "        0., 0., 0., 0., 0., 0., 0., 0., 0., 0., 0., 0., 0.], dtype=float32)>]"
      ]
     },
     "execution_count": 78,
     "metadata": {},
     "output_type": "execute_result"
    }
   ],
   "source": [
    "model.layers[0].weights"
   ]
  },
  {
   "cell_type": "code",
   "execution_count": 79,
   "metadata": {},
   "outputs": [
    {
     "data": {
      "text/plain": [
       "array([[ 0.00015817, -0.01590087,  0.00103594, ...,  0.00962818,\n",
       "         0.00624957,  0.00994726],\n",
       "       [ 0.0081879 ,  0.00756818, -0.00668142, ...,  0.01084459,\n",
       "        -0.00317478, -0.00549116],\n",
       "       [-0.00086618, -0.00287623,  0.00391693, ...,  0.00064558,\n",
       "        -0.00420471,  0.00174566],\n",
       "       ...,\n",
       "       [-0.0029006 , -0.0091218 ,  0.00804327, ..., -0.01407086,\n",
       "         0.00952832, -0.01348555],\n",
       "       [ 0.00375078,  0.00967842,  0.00098119, ..., -0.00413454,\n",
       "         0.01695471,  0.00025196],\n",
       "       [ 0.00459809,  0.01223094, -0.00213172, ...,  0.01246831,\n",
       "        -0.00714749, -0.00868595]], dtype=float32)"
      ]
     },
     "execution_count": 79,
     "metadata": {},
     "output_type": "execute_result"
    }
   ],
   "source": [
    "w = model.layers[0].weights[0].numpy()\n",
    "w"
   ]
  },
  {
   "cell_type": "code",
   "execution_count": 80,
   "metadata": {},
   "outputs": [
    {
     "data": {
      "text/plain": [
       "0.008835949"
      ]
     },
     "execution_count": 80,
     "metadata": {},
     "output_type": "execute_result"
    }
   ],
   "source": [
    "w.std()"
   ]
  },
  {
   "cell_type": "code",
   "execution_count": 81,
   "metadata": {},
   "outputs": [
    {
     "data": {
      "text/plain": [
       "array([0., 0., 0., 0., 0., 0., 0., 0., 0., 0., 0., 0., 0., 0., 0., 0., 0.,\n",
       "       0., 0., 0., 0., 0., 0., 0., 0., 0., 0., 0., 0., 0., 0., 0., 0., 0.,\n",
       "       0., 0., 0., 0., 0., 0., 0., 0., 0., 0., 0., 0., 0., 0., 0., 0., 0.,\n",
       "       0., 0., 0., 0., 0., 0., 0., 0., 0., 0., 0., 0., 0.], dtype=float32)"
      ]
     },
     "execution_count": 81,
     "metadata": {},
     "output_type": "execute_result"
    }
   ],
   "source": [
    "b = model.layers[0].weights[1].numpy()\n",
    "b"
   ]
  },
  {
   "cell_type": "code",
   "execution_count": 82,
   "metadata": {},
   "outputs": [
    {
     "name": "stdout",
     "output_type": "stream",
     "text": [
      "Epoch 1/15\n",
      "45/45 [==============================] - 2s 5ms/step - loss: 2.2856 - accuracy: 0.2276\n",
      "Epoch 2/15\n",
      "45/45 [==============================] - 0s 4ms/step - loss: 1.7506 - accuracy: 0.4662\n",
      "Epoch 3/15\n",
      "45/45 [==============================] - 0s 4ms/step - loss: 0.9653 - accuracy: 0.7258\n",
      "Epoch 4/15\n",
      "45/45 [==============================] - 0s 4ms/step - loss: 0.6118 - accuracy: 0.8344\n",
      "Epoch 5/15\n",
      "45/45 [==============================] - 0s 4ms/step - loss: 0.3487 - accuracy: 0.9123\n",
      "Epoch 6/15\n",
      "45/45 [==============================] - 0s 4ms/step - loss: 0.2132 - accuracy: 0.9520\n",
      "Epoch 7/15\n",
      "45/45 [==============================] - 0s 4ms/step - loss: 0.1796 - accuracy: 0.9569\n",
      "Epoch 8/15\n",
      "45/45 [==============================] - 0s 4ms/step - loss: 0.1755 - accuracy: 0.9548\n",
      "Epoch 9/15\n",
      "45/45 [==============================] - 0s 4ms/step - loss: 0.1224 - accuracy: 0.9701\n",
      "Epoch 10/15\n",
      "45/45 [==============================] - 0s 4ms/step - loss: 0.0987 - accuracy: 0.9722\n",
      "Epoch 11/15\n",
      "45/45 [==============================] - 0s 4ms/step - loss: 0.0751 - accuracy: 0.9826\n",
      "Epoch 12/15\n",
      "45/45 [==============================] - 0s 5ms/step - loss: 0.0817 - accuracy: 0.9805\n",
      "Epoch 13/15\n",
      "45/45 [==============================] - 0s 8ms/step - loss: 0.0705 - accuracy: 0.9791\n",
      "Epoch 14/15\n",
      "45/45 [==============================] - 0s 4ms/step - loss: 0.0745 - accuracy: 0.9833\n",
      "Epoch 15/15\n",
      "45/45 [==============================] - 0s 6ms/step - loss: 0.0676 - accuracy: 0.9854\n"
     ]
    },
    {
     "data": {
      "image/png": "[encoded data removed]",
      "text/plain": [
       "<Figure size 1200x400 with 1 Axes>"
      ]
     },
     "metadata": {},
     "output_type": "display_data"
    }
   ],
   "source": [
    "history = model.fit(X_train, y_train, epochs=15, batch_size=32)\n",
    "\n",
    "plt.figure(figsize=(12, 4))\n",
    "plt.plot(history.history['loss'], label=\"Truncated Normal init\")\n",
    "plt.legend();"
   ]
  },
  {
   "cell_type": "markdown",
   "metadata": {},
   "source": [
    "Once the model has been fit, the weights have been updated and notably the biases are no longer 0:"
   ]
  },
  {
   "cell_type": "code",
   "execution_count": 83,
   "metadata": {},
   "outputs": [
    {
     "data": {
      "text/plain": [
       "[<tf.Variable 'dense_52/kernel:0' shape=(64, 64) dtype=float32, numpy=\n",
       " array([[ 1.58170762e-04, -1.59008689e-02,  1.03594456e-03, ...,\n",
       "          9.62818228e-03,  6.24957308e-03,  9.94726177e-03],\n",
       "        [ 1.96445417e-02, -1.40335336e-02, -3.29092285e-03, ...,\n",
       "         -3.10983579e-03, -1.90353002e-02, -2.64977831e-02],\n",
       "        [ 6.82007670e-02, -7.91712478e-02, -9.01284888e-02, ...,\n",
       "         -3.12585123e-02, -1.20235704e-01,  7.16866031e-02],\n",
       "        ...,\n",
       "        [ 3.77020612e-03,  1.37984008e-02,  1.35512039e-01, ...,\n",
       "         -4.76061404e-02,  6.58461526e-02, -2.08845466e-01],\n",
       "        [ 2.70201005e-02, -1.96851771e-02,  1.12769485e-01, ...,\n",
       "         -5.36998846e-02, -3.11043058e-02, -1.03371009e-01],\n",
       "        [ 3.72385234e-02, -1.26335192e-02,  5.30985631e-02, ...,\n",
       "          5.24231456e-02,  2.17369050e-02, -4.46518473e-02]], dtype=float32)>,\n",
       " <tf.Variable 'dense_52/bias:0' shape=(64,) dtype=float32, numpy=\n",
       " array([-1.5292985e-04,  3.0680429e-05,  2.6820940e-03, -4.5521325e-03,\n",
       "        -4.4510746e-03, -4.4281554e-04, -4.2277630e-03,  2.1610416e-03,\n",
       "         4.0446475e-04, -1.0566188e-03, -2.7319824e-03,  2.9924717e-03,\n",
       "         1.7772247e-03,  3.1097517e-03,  7.6154358e-04, -4.3713642e-04,\n",
       "         6.3576060e-03,  8.1222842e-04, -1.8443820e-03, -1.3583123e-03,\n",
       "        -2.2273071e-04, -4.9920846e-04,  1.7184041e-03,  3.6925575e-04,\n",
       "         4.6330998e-03,  2.5536127e-03,  4.7127859e-04, -3.2098771e-03,\n",
       "        -1.2433127e-03, -2.8527933e-04,  2.7230210e-03,  5.7522184e-04,\n",
       "         6.6681148e-04,  3.1186738e-03,  3.0340559e-03, -4.4255131e-03,\n",
       "        -2.4407979e-03, -1.8032503e-03,  3.8512670e-03,  1.7206861e-03,\n",
       "         2.9717130e-03, -2.8248166e-03,  2.7472794e-03,  5.5250025e-04,\n",
       "         6.7796290e-04, -2.0951396e-03,  7.0632477e-03, -1.5378882e-03,\n",
       "        -4.2541011e-05,  2.5398652e-03,  4.8831240e-03, -5.8395960e-03,\n",
       "        -2.0336066e-03, -1.7113164e-03, -2.2595648e-03, -4.1719885e-03,\n",
       "         2.2767098e-03,  9.2171720e-04,  3.6938651e-03,  7.0300139e-04,\n",
       "        -5.8259931e-03,  2.4529670e-03, -5.3195697e-03,  1.3917716e-03],\n",
       "       dtype=float32)>]"
      ]
     },
     "execution_count": 83,
     "metadata": {},
     "output_type": "execute_result"
    }
   ],
   "source": [
    "model.layers[0].weights"
   ]
  },
  {
   "cell_type": "markdown",
   "metadata": {},
   "source": [
    "#### Questions:\n",
    "\n",
    "- Try the following initialization schemes and see whether\n",
    "  the SGD algorithm can successfully train the network or\n",
    "  not:\n",
    "  \n",
    "  - a very small e.g. `stddev=1e-3`\n",
    "  - a larger scale e.g. `stddev=1` or `10`\n",
    "  - initialize all weights to 0 (constant initialization)\n",
    "  \n",
    "- What do you observe? Can you find an explanation for those\n",
    "  outcomes?\n",
    "\n",
    "- Are more advanced solvers such as SGD with momentum or Adam able\n",
    "  to deal better with such bad initializations?"
   ]
  },
  {
   "cell_type": "code",
   "execution_count": 88,
   "metadata": {},
   "outputs": [
    {
     "name": "stdout",
     "output_type": "stream",
     "text": [
      "Training with stddev=1e-3\n",
      "Epoch 1/15\n",
      "45/45 [==============================] - 2s 5ms/step - loss: 2.3036 - accuracy: 0.0932\n",
      "Epoch 2/15\n",
      "45/45 [==============================] - 0s 5ms/step - loss: 2.3033 - accuracy: 0.1065\n",
      "Epoch 3/15\n",
      "45/45 [==============================] - 0s 4ms/step - loss: 2.3033 - accuracy: 0.1058\n",
      "Epoch 4/15\n",
      "45/45 [==============================] - 0s 4ms/step - loss: 2.3032 - accuracy: 0.1058\n",
      "Epoch 5/15\n",
      "45/45 [==============================] - 0s 4ms/step - loss: 2.3031 - accuracy: 0.1072\n",
      "Epoch 6/15\n",
      "45/45 [==============================] - 0s 4ms/step - loss: 2.3031 - accuracy: 0.1072\n",
      "Epoch 7/15\n",
      "45/45 [==============================] - 0s 4ms/step - loss: 2.3031 - accuracy: 0.1037\n",
      "Epoch 8/15\n",
      "45/45 [==============================] - 0s 4ms/step - loss: 2.3030 - accuracy: 0.1044\n",
      "Epoch 9/15\n",
      "45/45 [==============================] - 0s 7ms/step - loss: 2.3019 - accuracy: 0.1065\n",
      "Epoch 10/15\n",
      "45/45 [==============================] - 0s 11ms/step - loss: 2.1207 - accuracy: 0.1761\n",
      "Epoch 11/15\n",
      "45/45 [==============================] - 0s 6ms/step - loss: 1.7796 - accuracy: 0.2206\n",
      "Epoch 12/15\n",
      "45/45 [==============================] - 0s 8ms/step - loss: 1.6535 - accuracy: 0.2589\n",
      "Epoch 13/15\n",
      "45/45 [==============================] - 0s 5ms/step - loss: 1.4374 - accuracy: 0.3375\n",
      "Epoch 14/15\n",
      "45/45 [==============================] - 0s 5ms/step - loss: 1.2039 - accuracy: 0.5010\n",
      "Epoch 15/15\n",
      "45/45 [==============================] - 0s 4ms/step - loss: 0.8678 - accuracy: 0.6882\n",
      "Training with stddev=1\n",
      "Epoch 1/15\n",
      "45/45 [==============================] - 1s 11ms/step - loss: 4.1120 - accuracy: 0.3020\n",
      "Epoch 2/15\n",
      "45/45 [==============================] - 0s 5ms/step - loss: 1.9667 - accuracy: 0.4697\n",
      "Epoch 3/15\n",
      "45/45 [==============================] - 0s 5ms/step - loss: 1.4547 - accuracy: 0.5699\n",
      "Epoch 4/15\n",
      "45/45 [==============================] - 0s 11ms/step - loss: 1.2464 - accuracy: 0.6305\n",
      "Epoch 5/15\n",
      "45/45 [==============================] - 0s 4ms/step - loss: 1.0309 - accuracy: 0.6806\n",
      "Epoch 6/15\n",
      "45/45 [==============================] - 0s 4ms/step - loss: 0.9774 - accuracy: 0.6959\n",
      "Epoch 7/15\n",
      "45/45 [==============================] - 1s 14ms/step - loss: 0.9135 - accuracy: 0.7189\n",
      "Epoch 8/15\n",
      "45/45 [==============================] - 0s 6ms/step - loss: 0.8245 - accuracy: 0.7418\n",
      "Epoch 9/15\n",
      "45/45 [==============================] - 0s 6ms/step - loss: 0.6844 - accuracy: 0.7717\n",
      "Epoch 10/15\n",
      "45/45 [==============================] - 0s 5ms/step - loss: 0.6390 - accuracy: 0.7968\n",
      "Epoch 11/15\n",
      "45/45 [==============================] - 0s 6ms/step - loss: 0.6164 - accuracy: 0.7954\n",
      "Epoch 12/15\n",
      "45/45 [==============================] - 0s 4ms/step - loss: 0.5498 - accuracy: 0.8212\n",
      "Epoch 13/15\n",
      "45/45 [==============================] - 0s 5ms/step - loss: 0.5580 - accuracy: 0.8232\n",
      "Epoch 14/15\n",
      "45/45 [==============================] - 0s 5ms/step - loss: 0.5239 - accuracy: 0.8170\n",
      "Epoch 15/15\n",
      "45/45 [==============================] - 0s 4ms/step - loss: 0.5397 - accuracy: 0.8149\n",
      "Training with stddev=10\n",
      "Epoch 1/15\n",
      "45/45 [==============================] - 1s 5ms/step - loss: 83.3911 - accuracy: 0.0967\n",
      "Epoch 2/15\n",
      "45/45 [==============================] - 0s 5ms/step - loss: 61.1821 - accuracy: 0.1141\n",
      "Epoch 3/15\n",
      "45/45 [==============================] - 0s 5ms/step - loss: 46.0198 - accuracy: 0.1510\n",
      "Epoch 4/15\n",
      "45/45 [==============================] - 0s 9ms/step - loss: 31.6978 - accuracy: 0.1872\n",
      "Epoch 5/15\n",
      "45/45 [==============================] - 0s 4ms/step - loss: 24.0080 - accuracy: 0.2185\n",
      "Epoch 6/15\n",
      "45/45 [==============================] - 0s 4ms/step - loss: 26.8128 - accuracy: 0.1928\n",
      "Epoch 7/15\n",
      "45/45 [==============================] - 0s 4ms/step - loss: 20.2708 - accuracy: 0.2352\n",
      "Epoch 8/15\n",
      "45/45 [==============================] - 0s 4ms/step - loss: 14.7539 - accuracy: 0.2004\n",
      "Epoch 9/15\n",
      "45/45 [==============================] - 0s 4ms/step - loss: 12.4871 - accuracy: 0.1942\n",
      "Epoch 10/15\n",
      "45/45 [==============================] - 0s 8ms/step - loss: 16.2581 - accuracy: 0.1928\n",
      "Epoch 11/15\n",
      "45/45 [==============================] - 0s 5ms/step - loss: 13.4473 - accuracy: 0.2081\n",
      "Epoch 12/15\n",
      "45/45 [==============================] - 0s 4ms/step - loss: 12.3771 - accuracy: 0.2450\n",
      "Epoch 13/15\n",
      "45/45 [==============================] - 0s 6ms/step - loss: 10.6965 - accuracy: 0.2540\n",
      "Epoch 14/15\n",
      "45/45 [==============================] - 0s 4ms/step - loss: 9.9303 - accuracy: 0.2610\n",
      "Epoch 15/15\n",
      "45/45 [==============================] - 0s 4ms/step - loss: 9.3497 - accuracy: 0.2630\n",
      "Training with constant initialization (all weights = 0)\n",
      "Epoch 1/15\n",
      "45/45 [==============================] - 1s 4ms/step - loss: 2.3035 - accuracy: 0.1037\n",
      "Epoch 2/15\n",
      "45/45 [==============================] - 0s 9ms/step - loss: 2.3033 - accuracy: 0.1009\n",
      "Epoch 3/15\n",
      "45/45 [==============================] - 0s 4ms/step - loss: 2.3033 - accuracy: 0.1016\n",
      "Epoch 4/15\n",
      "45/45 [==============================] - 0s 5ms/step - loss: 2.3031 - accuracy: 0.1037\n",
      "Epoch 5/15\n",
      "45/45 [==============================] - 0s 5ms/step - loss: 2.3031 - accuracy: 0.1044\n",
      "Epoch 6/15\n",
      "45/45 [==============================] - 0s 5ms/step - loss: 2.3031 - accuracy: 0.0974\n",
      "Epoch 7/15\n",
      "45/45 [==============================] - 0s 5ms/step - loss: 2.3032 - accuracy: 0.1072\n",
      "Epoch 8/15\n",
      "45/45 [==============================] - 0s 5ms/step - loss: 2.3028 - accuracy: 0.1051\n",
      "Epoch 9/15\n",
      "45/45 [==============================] - 0s 5ms/step - loss: 2.3031 - accuracy: 0.1037\n",
      "Epoch 10/15\n",
      "45/45 [==============================] - 0s 5ms/step - loss: 2.3032 - accuracy: 0.1072\n",
      "Epoch 11/15\n",
      "45/45 [==============================] - 0s 5ms/step - loss: 2.3030 - accuracy: 0.1072\n",
      "Epoch 12/15\n",
      "45/45 [==============================] - 0s 5ms/step - loss: 2.3032 - accuracy: 0.1065\n",
      "Epoch 13/15\n",
      "45/45 [==============================] - 0s 5ms/step - loss: 2.3032 - accuracy: 0.1051\n",
      "Epoch 14/15\n",
      "45/45 [==============================] - 0s 5ms/step - loss: 2.3030 - accuracy: 0.1030\n",
      "Epoch 15/15\n",
      "45/45 [==============================] - 0s 11ms/step - loss: 2.3031 - accuracy: 0.1044\n"
     ]
    },
    {
     "data": {
      "text/plain": [
       "<keras.callbacks.History at 0x23ba06196a0>"
      ]
     },
     "execution_count": 88,
     "metadata": {},
     "output_type": "execute_result"
    },
    {
     "data": {
      "text/plain": [
       "<Figure size 1200x800 with 0 Axes>"
      ]
     },
     "metadata": {},
     "output_type": "display_data"
    }
   ],
   "source": [
    "from tensorflow.keras import initializers\n",
    "from tensorflow.keras import optimizers\n",
    "from tensorflow.keras.models import Sequential\n",
    "from tensorflow.keras.layers import Dense\n",
    "import matplotlib.pyplot as plt\n",
    "\n",
    "# Define model dimensions\n",
    "input_dim = 64\n",
    "hidden_dim = 64\n",
    "output_dim = 10\n",
    "\n",
    "# Function to train and evaluate the model with a given initializer\n",
    "def train_with_initializer(initializer, stddev=None, title=None):\n",
    "    if stddev is not None:\n",
    "        initializer = initializers.TruncatedNormal(stddev=stddev, seed=42)\n",
    "    \n",
    "    model = Sequential()\n",
    "    model.add(Dense(hidden_dim, input_dim=input_dim, activation=\"tanh\", kernel_initializer=initializer))\n",
    "    model.add(Dense(hidden_dim, activation=\"tanh\", kernel_initializer=initializer))\n",
    "    model.add(Dense(output_dim, activation=\"softmax\", kernel_initializer=initializer))\n",
    "    \n",
    "    model.compile(optimizer=optimizers.SGD(learning_rate=0.1),\n",
    "                  loss='categorical_crossentropy', metrics=['accuracy'])\n",
    "    \n",
    "    history = model.fit(X_train, y_train, epochs= 15, batch_size=32)\n",
    "    \n",
    "   \n",
    "    return history\n",
    "\n",
    "# Plot all experiments\n",
    "plt.figure(figsize=(12, 8))\n",
    "\n",
    "# Experiment 1: Very small stddev=1e-3\n",
    "print(\"Training with stddev=1e-3\")\n",
    "train_with_initializer(None, stddev=1e-3, title=\"stddev=1e-3\")\n",
    "\n",
    "# Experiment 2: Larger stddev=1\n",
    "print(\"Training with stddev=1\")\n",
    "train_with_initializer(None, stddev=1, title=\"stddev=1\")\n",
    "\n",
    "# Experiment 3: Larger stddev=10\n",
    "print(\"Training with stddev=10\")\n",
    "train_with_initializer(None, stddev=10, title=\"stddev=10\")\n",
    "\n",
    "# Experiment 4: Constant initialization (all weights = 0)\n",
    "print(\"Training with constant initialization (all weights = 0)\")\n",
    "train_with_initializer(initializer=initializers.Constant(value=0), title=\"Constant Initialization (0)\")\n",
    "\n"
   ]
  },
  {
   "cell_type": "markdown",
   "metadata": {},
   "source": [
    "\n",
    "Observations\n",
    "\n",
    "Small stddev=1e-3:\n",
    "Training is slow initially, with minimal improvement in accuracy until later epochs.\n",
    "Explanation: Small weights lead to very small gradients, slowing down learning due to the vanishing gradient problem.\n",
    "\n",
    "Moderate stddev=1:\n",
    "The network trains well, with steadily increasing accuracy and convergence by the final epochs.\n",
    "Explanation: Proper weight initialization ensures that the gradients are neither too small nor too large, facilitating stable learning.\n",
    "\n",
    "Large stddev=10:\n",
    "The network fails to converge effectively, with high loss values and poor accuracy throughout training.\n",
    "Explanation: Large weights lead to exploding gradients, causing instability and poor optimization performance.\n",
    "\n",
    "Constant Initialization (all weights = 0):\n",
    "The network fails to learn, with no improvement in accuracy across epochs.\n",
    "Explanation: Constant initialization breaks the symmetry of the network, preventing different neurons from learning unique features."
   ]
  },
  {
   "cell_type": "markdown",
   "metadata": {},
   "source": [
    "Advanced Solvers\n",
    "\n",
    "SGD with Momentum:\n",
    "Can slightly mitigate issues with small or large weights by accumulating past gradients, providing smoother updates and faster convergence.\n",
    "However, it cannot fully resolve the vanishing or exploding gradient issues caused by improper initialization.\n",
    "\n",
    "Adam Optimizer:\n",
    "Performs better in these scenarios as it dynamically adjusts learning rates for each parameter based on past gradients.\n",
    "Adam is more resilient to poor initializations, particularly for small stddev=1e-3, but it cannot fix catastrophic issues caused by excessively large weights (stddev=10) or constant initialization.\n",
    "\n",
    "Key Considerations:\n",
    "Use advanced initialization techniques like He initialization (for ReLU) or Xavier initialization (for tanh) to ensure gradients remain well-scaled.\n",
    "Combine good initialization with advanced optimizers like Adam for robust training."
   ]
  }
 ],
 "metadata": {
  "file_extension": ".py",
  "kernelspec": {
   "display_name": "Python 3 (ipykernel)",
   "language": "python",
   "name": "python3"
  },
  "language_info": {
   "codemirror_mode": {
    "name": "ipython",
    "version": 3
   },
   "file_extension": ".py",
   "mimetype": "text/x-python",
   "name": "python",
   "nbconvert_exporter": "python",
   "pygments_lexer": "ipython3",
   "version": "3.11.8"
  },
  "mimetype": "text/x-python",
  "name": "python",
  "npconvert_exporter": "python",
  "pygments_lexer": "ipython3",
  "toc": {
   "base_numbering": 1,
   "nav_menu": {},
   "number_sections": true,
   "sideBar": true,
   "skip_h1_title": false,
   "title_cell": "Table of Contents",
   "title_sidebar": "Contents",
   "toc_cell": false,
   "toc_position": {},
   "toc_section_display": true,
   "toc_window_display": false
  },
  "version": 3
 },
 "nbformat": 4,
 "nbformat_minor": 4
}
